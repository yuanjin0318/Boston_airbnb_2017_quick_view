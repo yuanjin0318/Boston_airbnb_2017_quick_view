{
 "cells": [
  {
   "cell_type": "markdown",
   "metadata": {},
   "source": [
    "# Boston AirBNB Data \n",
    "### Yuan Jin - 08/19/2020"
   ]
  },
  {
   "cell_type": "markdown",
   "metadata": {},
   "source": [
    "## Section 1. Business Understanding"
   ]
  },
  {
   "cell_type": "markdown",
   "metadata": {},
   "source": [
    "I have a quick view of the Boston Airbnb information in the year of 2017, I tried to implement the CRISP-DM method for this data analysis. There were a few questions I had in mind regarding the dataset that I tried to find. These Questions were the following:\n",
    "\n",
    "(1)How is the general price distribution of Airbnb in Boston?\n",
    "\n",
    "(2)Whether there is a “hot-season” or “cold-season” for Airbnb in Boston?\n",
    "\n",
    "(3)The general price variations according to months and seasons\n",
    "\n",
    "(4 )Which area is \"hottest\" for Boston Airbnb and which region is the most expensive?"
   ]
  },
  {
   "cell_type": "markdown",
   "metadata": {},
   "source": [
    "## Section 2. Data Understanding"
   ]
  },
  {
   "cell_type": "code",
   "execution_count": 1,
   "metadata": {},
   "outputs": [],
   "source": [
    "#import library\n",
    "import pandas as pd\n",
    "import numpy as np\n",
    "import matplotlib.pyplot as plt\n",
    "import sklearn \n",
    "import seaborn as sb\n",
    "from sklearn import preprocessing\n",
    "from sklearn.model_selection import train_test_split\n",
    "import lightgbm as lgb\n",
    "from sklearn.metrics import mean_absolute_error\n",
    "\n",
    "#import CSV files \n",
    "cals = pd.read_csv(\"calendar.csv\")\n",
    "lists = pd.read_csv(\"listings.csv\")\n",
    "revs = pd.read_csv(\"reviews.csv\")"
   ]
  },
  {
   "cell_type": "code",
   "execution_count": 2,
   "metadata": {},
   "outputs": [
    {
     "data": {
      "text/html": [
       "<div>\n",
       "<style scoped>\n",
       "    .dataframe tbody tr th:only-of-type {\n",
       "        vertical-align: middle;\n",
       "    }\n",
       "\n",
       "    .dataframe tbody tr th {\n",
       "        vertical-align: top;\n",
       "    }\n",
       "\n",
       "    .dataframe thead th {\n",
       "        text-align: right;\n",
       "    }\n",
       "</style>\n",
       "<table border=\"1\" class=\"dataframe\">\n",
       "  <thead>\n",
       "    <tr style=\"text-align: right;\">\n",
       "      <th></th>\n",
       "      <th>listing_id</th>\n",
       "      <th>date</th>\n",
       "      <th>available</th>\n",
       "      <th>price</th>\n",
       "    </tr>\n",
       "  </thead>\n",
       "  <tbody>\n",
       "    <tr>\n",
       "      <th>0</th>\n",
       "      <td>12147973</td>\n",
       "      <td>2017-09-05</td>\n",
       "      <td>f</td>\n",
       "      <td>NaN</td>\n",
       "    </tr>\n",
       "    <tr>\n",
       "      <th>1</th>\n",
       "      <td>12147973</td>\n",
       "      <td>2017-09-04</td>\n",
       "      <td>f</td>\n",
       "      <td>NaN</td>\n",
       "    </tr>\n",
       "    <tr>\n",
       "      <th>2</th>\n",
       "      <td>12147973</td>\n",
       "      <td>2017-09-03</td>\n",
       "      <td>f</td>\n",
       "      <td>NaN</td>\n",
       "    </tr>\n",
       "    <tr>\n",
       "      <th>3</th>\n",
       "      <td>12147973</td>\n",
       "      <td>2017-09-02</td>\n",
       "      <td>f</td>\n",
       "      <td>NaN</td>\n",
       "    </tr>\n",
       "    <tr>\n",
       "      <th>4</th>\n",
       "      <td>12147973</td>\n",
       "      <td>2017-09-01</td>\n",
       "      <td>f</td>\n",
       "      <td>NaN</td>\n",
       "    </tr>\n",
       "  </tbody>\n",
       "</table>\n",
       "</div>"
      ],
      "text/plain": [
       "   listing_id        date available price\n",
       "0    12147973  2017-09-05         f   NaN\n",
       "1    12147973  2017-09-04         f   NaN\n",
       "2    12147973  2017-09-03         f   NaN\n",
       "3    12147973  2017-09-02         f   NaN\n",
       "4    12147973  2017-09-01         f   NaN"
      ]
     },
     "execution_count": 2,
     "metadata": {},
     "output_type": "execute_result"
    }
   ],
   "source": [
    "#check and have a basic understand of \"calendar.csv\"\n",
    "cals.head()"
   ]
  },
  {
   "cell_type": "code",
   "execution_count": 14,
   "metadata": {},
   "outputs": [
    {
     "name": "stdout",
     "output_type": "stream",
     "text": [
      "<class 'pandas.core.frame.DataFrame'>\n",
      "RangeIndex: 1308890 entries, 0 to 1308889\n",
      "Data columns (total 4 columns):\n",
      " #   Column      Non-Null Count    Dtype \n",
      "---  ------      --------------    ----- \n",
      " 0   listing_id  1308890 non-null  int64 \n",
      " 1   date        1308890 non-null  object\n",
      " 2   available   1308890 non-null  object\n",
      " 3   price       643037 non-null   object\n",
      "dtypes: int64(1), object(3)\n",
      "memory usage: 39.9+ MB\n"
     ]
    }
   ],
   "source": [
    "# check the general information of \"calendar.csv\"\n",
    "cals.info()"
   ]
  },
  {
   "cell_type": "markdown",
   "metadata": {},
   "source": [
    "We can get some information from the date and price column, and we can have a look of their relationship"
   ]
  },
  {
   "cell_type": "code",
   "execution_count": 3,
   "metadata": {},
   "outputs": [
    {
     "data": {
      "text/html": [
       "<div>\n",
       "<style scoped>\n",
       "    .dataframe tbody tr th:only-of-type {\n",
       "        vertical-align: middle;\n",
       "    }\n",
       "\n",
       "    .dataframe tbody tr th {\n",
       "        vertical-align: top;\n",
       "    }\n",
       "\n",
       "    .dataframe thead th {\n",
       "        text-align: right;\n",
       "    }\n",
       "</style>\n",
       "<table border=\"1\" class=\"dataframe\">\n",
       "  <thead>\n",
       "    <tr style=\"text-align: right;\">\n",
       "      <th></th>\n",
       "      <th>id</th>\n",
       "      <th>listing_url</th>\n",
       "      <th>scrape_id</th>\n",
       "      <th>last_scraped</th>\n",
       "      <th>name</th>\n",
       "      <th>summary</th>\n",
       "      <th>space</th>\n",
       "      <th>description</th>\n",
       "      <th>experiences_offered</th>\n",
       "      <th>neighborhood_overview</th>\n",
       "      <th>...</th>\n",
       "      <th>review_scores_value</th>\n",
       "      <th>requires_license</th>\n",
       "      <th>license</th>\n",
       "      <th>jurisdiction_names</th>\n",
       "      <th>instant_bookable</th>\n",
       "      <th>cancellation_policy</th>\n",
       "      <th>require_guest_profile_picture</th>\n",
       "      <th>require_guest_phone_verification</th>\n",
       "      <th>calculated_host_listings_count</th>\n",
       "      <th>reviews_per_month</th>\n",
       "    </tr>\n",
       "  </thead>\n",
       "  <tbody>\n",
       "    <tr>\n",
       "      <th>0</th>\n",
       "      <td>12147973</td>\n",
       "      <td>https://www.airbnb.com/rooms/12147973</td>\n",
       "      <td>20160906204935</td>\n",
       "      <td>2016-09-07</td>\n",
       "      <td>Sunny Bungalow in the City</td>\n",
       "      <td>Cozy, sunny, family home.  Master bedroom high...</td>\n",
       "      <td>The house has an open and cozy feel at the sam...</td>\n",
       "      <td>Cozy, sunny, family home.  Master bedroom high...</td>\n",
       "      <td>none</td>\n",
       "      <td>Roslindale is quiet, convenient and friendly. ...</td>\n",
       "      <td>...</td>\n",
       "      <td>NaN</td>\n",
       "      <td>f</td>\n",
       "      <td>NaN</td>\n",
       "      <td>NaN</td>\n",
       "      <td>f</td>\n",
       "      <td>moderate</td>\n",
       "      <td>f</td>\n",
       "      <td>f</td>\n",
       "      <td>1</td>\n",
       "      <td>NaN</td>\n",
       "    </tr>\n",
       "    <tr>\n",
       "      <th>1</th>\n",
       "      <td>3075044</td>\n",
       "      <td>https://www.airbnb.com/rooms/3075044</td>\n",
       "      <td>20160906204935</td>\n",
       "      <td>2016-09-07</td>\n",
       "      <td>Charming room in pet friendly apt</td>\n",
       "      <td>Charming and quiet room in a second floor 1910...</td>\n",
       "      <td>Small but cozy and quite room with a full size...</td>\n",
       "      <td>Charming and quiet room in a second floor 1910...</td>\n",
       "      <td>none</td>\n",
       "      <td>The room is in Roslindale, a diverse and prima...</td>\n",
       "      <td>...</td>\n",
       "      <td>9.0</td>\n",
       "      <td>f</td>\n",
       "      <td>NaN</td>\n",
       "      <td>NaN</td>\n",
       "      <td>t</td>\n",
       "      <td>moderate</td>\n",
       "      <td>f</td>\n",
       "      <td>f</td>\n",
       "      <td>1</td>\n",
       "      <td>1.30</td>\n",
       "    </tr>\n",
       "    <tr>\n",
       "      <th>2</th>\n",
       "      <td>6976</td>\n",
       "      <td>https://www.airbnb.com/rooms/6976</td>\n",
       "      <td>20160906204935</td>\n",
       "      <td>2016-09-07</td>\n",
       "      <td>Mexican Folk Art Haven in Boston</td>\n",
       "      <td>Come stay with a friendly, middle-aged guy in ...</td>\n",
       "      <td>Come stay with a friendly, middle-aged guy in ...</td>\n",
       "      <td>Come stay with a friendly, middle-aged guy in ...</td>\n",
       "      <td>none</td>\n",
       "      <td>The LOCATION: Roslindale is a safe and diverse...</td>\n",
       "      <td>...</td>\n",
       "      <td>10.0</td>\n",
       "      <td>f</td>\n",
       "      <td>NaN</td>\n",
       "      <td>NaN</td>\n",
       "      <td>f</td>\n",
       "      <td>moderate</td>\n",
       "      <td>t</td>\n",
       "      <td>f</td>\n",
       "      <td>1</td>\n",
       "      <td>0.47</td>\n",
       "    </tr>\n",
       "    <tr>\n",
       "      <th>3</th>\n",
       "      <td>1436513</td>\n",
       "      <td>https://www.airbnb.com/rooms/1436513</td>\n",
       "      <td>20160906204935</td>\n",
       "      <td>2016-09-07</td>\n",
       "      <td>Spacious Sunny Bedroom Suite in Historic Home</td>\n",
       "      <td>Come experience the comforts of home away from...</td>\n",
       "      <td>Most places you find in Boston are small howev...</td>\n",
       "      <td>Come experience the comforts of home away from...</td>\n",
       "      <td>none</td>\n",
       "      <td>Roslindale is a lovely little neighborhood loc...</td>\n",
       "      <td>...</td>\n",
       "      <td>10.0</td>\n",
       "      <td>f</td>\n",
       "      <td>NaN</td>\n",
       "      <td>NaN</td>\n",
       "      <td>f</td>\n",
       "      <td>moderate</td>\n",
       "      <td>f</td>\n",
       "      <td>f</td>\n",
       "      <td>1</td>\n",
       "      <td>1.00</td>\n",
       "    </tr>\n",
       "    <tr>\n",
       "      <th>4</th>\n",
       "      <td>7651065</td>\n",
       "      <td>https://www.airbnb.com/rooms/7651065</td>\n",
       "      <td>20160906204935</td>\n",
       "      <td>2016-09-07</td>\n",
       "      <td>Come Home to Boston</td>\n",
       "      <td>My comfy, clean and relaxing home is one block...</td>\n",
       "      <td>Clean, attractive, private room, one block fro...</td>\n",
       "      <td>My comfy, clean and relaxing home is one block...</td>\n",
       "      <td>none</td>\n",
       "      <td>I love the proximity to downtown, the neighbor...</td>\n",
       "      <td>...</td>\n",
       "      <td>10.0</td>\n",
       "      <td>f</td>\n",
       "      <td>NaN</td>\n",
       "      <td>NaN</td>\n",
       "      <td>f</td>\n",
       "      <td>flexible</td>\n",
       "      <td>f</td>\n",
       "      <td>f</td>\n",
       "      <td>1</td>\n",
       "      <td>2.25</td>\n",
       "    </tr>\n",
       "  </tbody>\n",
       "</table>\n",
       "<p>5 rows × 95 columns</p>\n",
       "</div>"
      ],
      "text/plain": [
       "         id                            listing_url       scrape_id  \\\n",
       "0  12147973  https://www.airbnb.com/rooms/12147973  20160906204935   \n",
       "1   3075044   https://www.airbnb.com/rooms/3075044  20160906204935   \n",
       "2      6976      https://www.airbnb.com/rooms/6976  20160906204935   \n",
       "3   1436513   https://www.airbnb.com/rooms/1436513  20160906204935   \n",
       "4   7651065   https://www.airbnb.com/rooms/7651065  20160906204935   \n",
       "\n",
       "  last_scraped                                           name  \\\n",
       "0   2016-09-07                     Sunny Bungalow in the City   \n",
       "1   2016-09-07              Charming room in pet friendly apt   \n",
       "2   2016-09-07               Mexican Folk Art Haven in Boston   \n",
       "3   2016-09-07  Spacious Sunny Bedroom Suite in Historic Home   \n",
       "4   2016-09-07                            Come Home to Boston   \n",
       "\n",
       "                                             summary  \\\n",
       "0  Cozy, sunny, family home.  Master bedroom high...   \n",
       "1  Charming and quiet room in a second floor 1910...   \n",
       "2  Come stay with a friendly, middle-aged guy in ...   \n",
       "3  Come experience the comforts of home away from...   \n",
       "4  My comfy, clean and relaxing home is one block...   \n",
       "\n",
       "                                               space  \\\n",
       "0  The house has an open and cozy feel at the sam...   \n",
       "1  Small but cozy and quite room with a full size...   \n",
       "2  Come stay with a friendly, middle-aged guy in ...   \n",
       "3  Most places you find in Boston are small howev...   \n",
       "4  Clean, attractive, private room, one block fro...   \n",
       "\n",
       "                                         description experiences_offered  \\\n",
       "0  Cozy, sunny, family home.  Master bedroom high...                none   \n",
       "1  Charming and quiet room in a second floor 1910...                none   \n",
       "2  Come stay with a friendly, middle-aged guy in ...                none   \n",
       "3  Come experience the comforts of home away from...                none   \n",
       "4  My comfy, clean and relaxing home is one block...                none   \n",
       "\n",
       "                               neighborhood_overview  ... review_scores_value  \\\n",
       "0  Roslindale is quiet, convenient and friendly. ...  ...                 NaN   \n",
       "1  The room is in Roslindale, a diverse and prima...  ...                 9.0   \n",
       "2  The LOCATION: Roslindale is a safe and diverse...  ...                10.0   \n",
       "3  Roslindale is a lovely little neighborhood loc...  ...                10.0   \n",
       "4  I love the proximity to downtown, the neighbor...  ...                10.0   \n",
       "\n",
       "  requires_license license jurisdiction_names instant_bookable  \\\n",
       "0                f     NaN                NaN                f   \n",
       "1                f     NaN                NaN                t   \n",
       "2                f     NaN                NaN                f   \n",
       "3                f     NaN                NaN                f   \n",
       "4                f     NaN                NaN                f   \n",
       "\n",
       "  cancellation_policy require_guest_profile_picture  \\\n",
       "0            moderate                             f   \n",
       "1            moderate                             f   \n",
       "2            moderate                             t   \n",
       "3            moderate                             f   \n",
       "4            flexible                             f   \n",
       "\n",
       "  require_guest_phone_verification calculated_host_listings_count  \\\n",
       "0                                f                              1   \n",
       "1                                f                              1   \n",
       "2                                f                              1   \n",
       "3                                f                              1   \n",
       "4                                f                              1   \n",
       "\n",
       "   reviews_per_month  \n",
       "0                NaN  \n",
       "1               1.30  \n",
       "2               0.47  \n",
       "3               1.00  \n",
       "4               2.25  \n",
       "\n",
       "[5 rows x 95 columns]"
      ]
     },
     "execution_count": 3,
     "metadata": {},
     "output_type": "execute_result"
    }
   ],
   "source": [
    "#check and have a basic understand of \"listings.csv\"\n",
    "lists.head()"
   ]
  },
  {
   "cell_type": "code",
   "execution_count": 13,
   "metadata": {},
   "outputs": [
    {
     "name": "stdout",
     "output_type": "stream",
     "text": [
      "<class 'pandas.core.frame.DataFrame'>\n",
      "RangeIndex: 3585 entries, 0 to 3584\n",
      "Data columns (total 95 columns):\n",
      " #   Column                            Non-Null Count  Dtype  \n",
      "---  ------                            --------------  -----  \n",
      " 0   id                                3585 non-null   int64  \n",
      " 1   listing_url                       3585 non-null   object \n",
      " 2   scrape_id                         3585 non-null   int64  \n",
      " 3   last_scraped                      3585 non-null   object \n",
      " 4   name                              3585 non-null   object \n",
      " 5   summary                           3442 non-null   object \n",
      " 6   space                             2528 non-null   object \n",
      " 7   description                       3585 non-null   object \n",
      " 8   experiences_offered               3585 non-null   object \n",
      " 9   neighborhood_overview             2170 non-null   object \n",
      " 10  notes                             1610 non-null   object \n",
      " 11  transit                           2295 non-null   object \n",
      " 12  access                            2096 non-null   object \n",
      " 13  interaction                       2031 non-null   object \n",
      " 14  house_rules                       2393 non-null   object \n",
      " 15  thumbnail_url                     2986 non-null   object \n",
      " 16  medium_url                        2986 non-null   object \n",
      " 17  picture_url                       3585 non-null   object \n",
      " 18  xl_picture_url                    2986 non-null   object \n",
      " 19  host_id                           3585 non-null   int64  \n",
      " 20  host_url                          3585 non-null   object \n",
      " 21  host_name                         3585 non-null   object \n",
      " 22  host_since                        3585 non-null   object \n",
      " 23  host_location                     3574 non-null   object \n",
      " 24  host_about                        2276 non-null   object \n",
      " 25  host_response_time                3114 non-null   object \n",
      " 26  host_response_rate                3114 non-null   object \n",
      " 27  host_acceptance_rate              3114 non-null   object \n",
      " 28  host_is_superhost                 3585 non-null   object \n",
      " 29  host_thumbnail_url                3585 non-null   object \n",
      " 30  host_picture_url                  3585 non-null   object \n",
      " 31  host_neighbourhood                3246 non-null   object \n",
      " 32  host_listings_count               3585 non-null   int64  \n",
      " 33  host_total_listings_count         3585 non-null   int64  \n",
      " 34  host_verifications                3585 non-null   object \n",
      " 35  host_has_profile_pic              3585 non-null   object \n",
      " 36  host_identity_verified            3585 non-null   object \n",
      " 37  street                            3585 non-null   object \n",
      " 38  neighbourhood                     3042 non-null   object \n",
      " 39  neighbourhood_cleansed            3585 non-null   object \n",
      " 40  neighbourhood_group_cleansed      0 non-null      float64\n",
      " 41  city                              3583 non-null   object \n",
      " 42  state                             3585 non-null   object \n",
      " 43  zipcode                           3547 non-null   object \n",
      " 44  market                            3571 non-null   object \n",
      " 45  smart_location                    3585 non-null   object \n",
      " 46  country_code                      3585 non-null   object \n",
      " 47  country                           3585 non-null   object \n",
      " 48  latitude                          3585 non-null   float64\n",
      " 49  longitude                         3585 non-null   float64\n",
      " 50  is_location_exact                 3585 non-null   object \n",
      " 51  property_type                     3582 non-null   object \n",
      " 52  room_type                         3585 non-null   object \n",
      " 53  accommodates                      3585 non-null   int64  \n",
      " 54  bathrooms                         3571 non-null   float64\n",
      " 55  bedrooms                          3575 non-null   float64\n",
      " 56  beds                              3576 non-null   float64\n",
      " 57  bed_type                          3585 non-null   object \n",
      " 58  amenities                         3585 non-null   object \n",
      " 59  square_feet                       56 non-null     float64\n",
      " 60  price                             3585 non-null   object \n",
      " 61  weekly_price                      892 non-null    object \n",
      " 62  monthly_price                     888 non-null    object \n",
      " 63  security_deposit                  1342 non-null   object \n",
      " 64  cleaning_fee                      2478 non-null   object \n",
      " 65  guests_included                   3585 non-null   int64  \n",
      " 66  extra_people                      3585 non-null   object \n",
      " 67  minimum_nights                    3585 non-null   int64  \n",
      " 68  maximum_nights                    3585 non-null   int64  \n",
      " 69  calendar_updated                  3585 non-null   object \n",
      " 70  has_availability                  0 non-null      float64\n",
      " 71  availability_30                   3585 non-null   int64  \n",
      " 72  availability_60                   3585 non-null   int64  \n",
      " 73  availability_90                   3585 non-null   int64  \n",
      " 74  availability_365                  3585 non-null   int64  \n",
      " 75  calendar_last_scraped             3585 non-null   object \n",
      " 76  number_of_reviews                 3585 non-null   int64  \n",
      " 77  first_review                      2829 non-null   object \n",
      " 78  last_review                       2829 non-null   object \n",
      " 79  review_scores_rating              2772 non-null   float64\n",
      " 80  review_scores_accuracy            2762 non-null   float64\n",
      " 81  review_scores_cleanliness         2767 non-null   float64\n",
      " 82  review_scores_checkin             2765 non-null   float64\n",
      " 83  review_scores_communication       2767 non-null   float64\n",
      " 84  review_scores_location            2763 non-null   float64\n",
      " 85  review_scores_value               2764 non-null   float64\n",
      " 86  requires_license                  3585 non-null   object \n",
      " 87  license                           0 non-null      float64\n",
      " 88  jurisdiction_names                0 non-null      float64\n",
      " 89  instant_bookable                  3585 non-null   object \n",
      " 90  cancellation_policy               3585 non-null   object \n",
      " 91  require_guest_profile_picture     3585 non-null   object \n",
      " 92  require_guest_phone_verification  3585 non-null   object \n",
      " 93  calculated_host_listings_count    3585 non-null   int64  \n",
      " 94  reviews_per_month                 2829 non-null   float64\n",
      "dtypes: float64(18), int64(15), object(62)\n",
      "memory usage: 2.6+ MB\n"
     ]
    }
   ],
   "source": [
    "# check the general information of \"listings.csv\"\n",
    "lists.info()"
   ]
  },
  {
   "cell_type": "code",
   "execution_count": 4,
   "metadata": {},
   "outputs": [
    {
     "data": {
      "text/html": [
       "<div>\n",
       "<style scoped>\n",
       "    .dataframe tbody tr th:only-of-type {\n",
       "        vertical-align: middle;\n",
       "    }\n",
       "\n",
       "    .dataframe tbody tr th {\n",
       "        vertical-align: top;\n",
       "    }\n",
       "\n",
       "    .dataframe thead th {\n",
       "        text-align: right;\n",
       "    }\n",
       "</style>\n",
       "<table border=\"1\" class=\"dataframe\">\n",
       "  <thead>\n",
       "    <tr style=\"text-align: right;\">\n",
       "      <th></th>\n",
       "      <th>listing_id</th>\n",
       "      <th>id</th>\n",
       "      <th>date</th>\n",
       "      <th>reviewer_id</th>\n",
       "      <th>reviewer_name</th>\n",
       "      <th>comments</th>\n",
       "    </tr>\n",
       "  </thead>\n",
       "  <tbody>\n",
       "    <tr>\n",
       "      <th>0</th>\n",
       "      <td>1178162</td>\n",
       "      <td>4724140</td>\n",
       "      <td>2013-05-21</td>\n",
       "      <td>4298113</td>\n",
       "      <td>Olivier</td>\n",
       "      <td>My stay at islam's place was really cool! Good...</td>\n",
       "    </tr>\n",
       "    <tr>\n",
       "      <th>1</th>\n",
       "      <td>1178162</td>\n",
       "      <td>4869189</td>\n",
       "      <td>2013-05-29</td>\n",
       "      <td>6452964</td>\n",
       "      <td>Charlotte</td>\n",
       "      <td>Great location for both airport and city - gre...</td>\n",
       "    </tr>\n",
       "    <tr>\n",
       "      <th>2</th>\n",
       "      <td>1178162</td>\n",
       "      <td>5003196</td>\n",
       "      <td>2013-06-06</td>\n",
       "      <td>6449554</td>\n",
       "      <td>Sebastian</td>\n",
       "      <td>We really enjoyed our stay at Islams house. Fr...</td>\n",
       "    </tr>\n",
       "    <tr>\n",
       "      <th>3</th>\n",
       "      <td>1178162</td>\n",
       "      <td>5150351</td>\n",
       "      <td>2013-06-15</td>\n",
       "      <td>2215611</td>\n",
       "      <td>Marine</td>\n",
       "      <td>The room was nice and clean and so were the co...</td>\n",
       "    </tr>\n",
       "    <tr>\n",
       "      <th>4</th>\n",
       "      <td>1178162</td>\n",
       "      <td>5171140</td>\n",
       "      <td>2013-06-16</td>\n",
       "      <td>6848427</td>\n",
       "      <td>Andrew</td>\n",
       "      <td>Great location. Just 5 mins walk from the Airp...</td>\n",
       "    </tr>\n",
       "  </tbody>\n",
       "</table>\n",
       "</div>"
      ],
      "text/plain": [
       "   listing_id       id        date  reviewer_id reviewer_name  \\\n",
       "0     1178162  4724140  2013-05-21      4298113       Olivier   \n",
       "1     1178162  4869189  2013-05-29      6452964     Charlotte   \n",
       "2     1178162  5003196  2013-06-06      6449554     Sebastian   \n",
       "3     1178162  5150351  2013-06-15      2215611        Marine   \n",
       "4     1178162  5171140  2013-06-16      6848427        Andrew   \n",
       "\n",
       "                                            comments  \n",
       "0  My stay at islam's place was really cool! Good...  \n",
       "1  Great location for both airport and city - gre...  \n",
       "2  We really enjoyed our stay at Islams house. Fr...  \n",
       "3  The room was nice and clean and so were the co...  \n",
       "4  Great location. Just 5 mins walk from the Airp...  "
      ]
     },
     "execution_count": 4,
     "metadata": {},
     "output_type": "execute_result"
    }
   ],
   "source": [
    "#check and have a basic understand of \"reviews.csv\"\n",
    "revs.head()"
   ]
  },
  {
   "cell_type": "code",
   "execution_count": 15,
   "metadata": {},
   "outputs": [
    {
     "name": "stdout",
     "output_type": "stream",
     "text": [
      "<class 'pandas.core.frame.DataFrame'>\n",
      "RangeIndex: 68275 entries, 0 to 68274\n",
      "Data columns (total 6 columns):\n",
      " #   Column         Non-Null Count  Dtype \n",
      "---  ------         --------------  ----- \n",
      " 0   listing_id     68275 non-null  int64 \n",
      " 1   id             68275 non-null  int64 \n",
      " 2   date           68275 non-null  object\n",
      " 3   reviewer_id    68275 non-null  int64 \n",
      " 4   reviewer_name  68275 non-null  object\n",
      " 5   comments       68222 non-null  object\n",
      "dtypes: int64(3), object(3)\n",
      "memory usage: 3.1+ MB\n"
     ]
    }
   ],
   "source": [
    "#check the general information of \"reviews.csv\"\n",
    "revs.info()"
   ]
  },
  {
   "cell_type": "markdown",
   "metadata": {},
   "source": [
    "## Section 3. Prepare Data and Data Cleaning"
   ]
  },
  {
   "cell_type": "markdown",
   "metadata": {},
   "source": [
    "### 3.1 Data Preparation for \"calendar.csv\""
   ]
  },
  {
   "cell_type": "code",
   "execution_count": 6,
   "metadata": {},
   "outputs": [],
   "source": [
    "\"\"\"\n",
    "For this step, we drop all the nan from \"calendar.csv\" \n",
    "to generate a saperate dataframe, which will help us \n",
    "easily understand the price distribution, the original\n",
    "file won't be changed \n",
    "\n",
    "\"\"\"\n",
    "cals_price_noNaN = cals.dropna(subset = ['price'], axis = 0)"
   ]
  },
  {
   "cell_type": "code",
   "execution_count": 7,
   "metadata": {},
   "outputs": [
    {
     "name": "stderr",
     "output_type": "stream",
     "text": [
      "<ipython-input-7-cc20a6aaff82>:14: SettingWithCopyWarning: \n",
      "A value is trying to be set on a copy of a slice from a DataFrame.\n",
      "Try using .loc[row_indexer,col_indexer] = value instead\n",
      "\n",
      "See the caveats in the documentation: https://pandas.pydata.org/pandas-docs/stable/user_guide/indexing.html#returning-a-view-versus-a-copy\n",
      "  cals_price_noNaN['price_value'] = cals_price_noNaN['price'].map(price_mapper)\n"
     ]
    }
   ],
   "source": [
    "# extract the price information\n",
    "def price_mapper(price):\n",
    "    \"\"\"transform price's format from string to numerical number.\n",
    "    ----------\n",
    "    inputs：\n",
    "        price -- string form of price in original data\n",
    "    outputs:\n",
    "        price -- float form of price being transformed\n",
    "    \"\"\"\n",
    "    price = price.replace('$','')\n",
    "    price = price.replace(',','')\n",
    "    return float(price)\n",
    "\n",
    "cals_price_noNaN['price_value'] = cals_price_noNaN['price'].map(price_mapper)"
   ]
  },
  {
   "cell_type": "code",
   "execution_count": 8,
   "metadata": {},
   "outputs": [
    {
     "data": {
      "text/html": [
       "<div>\n",
       "<style scoped>\n",
       "    .dataframe tbody tr th:only-of-type {\n",
       "        vertical-align: middle;\n",
       "    }\n",
       "\n",
       "    .dataframe tbody tr th {\n",
       "        vertical-align: top;\n",
       "    }\n",
       "\n",
       "    .dataframe thead th {\n",
       "        text-align: right;\n",
       "    }\n",
       "</style>\n",
       "<table border=\"1\" class=\"dataframe\">\n",
       "  <thead>\n",
       "    <tr style=\"text-align: right;\">\n",
       "      <th></th>\n",
       "      <th>listing_id</th>\n",
       "      <th>date</th>\n",
       "      <th>available</th>\n",
       "      <th>price</th>\n",
       "      <th>price_value</th>\n",
       "    </tr>\n",
       "  </thead>\n",
       "  <tbody>\n",
       "    <tr>\n",
       "      <th>365</th>\n",
       "      <td>3075044</td>\n",
       "      <td>2017-08-22</td>\n",
       "      <td>t</td>\n",
       "      <td>$65.00</td>\n",
       "      <td>65.0</td>\n",
       "    </tr>\n",
       "    <tr>\n",
       "      <th>366</th>\n",
       "      <td>3075044</td>\n",
       "      <td>2017-08-21</td>\n",
       "      <td>t</td>\n",
       "      <td>$65.00</td>\n",
       "      <td>65.0</td>\n",
       "    </tr>\n",
       "    <tr>\n",
       "      <th>367</th>\n",
       "      <td>3075044</td>\n",
       "      <td>2017-08-20</td>\n",
       "      <td>t</td>\n",
       "      <td>$65.00</td>\n",
       "      <td>65.0</td>\n",
       "    </tr>\n",
       "    <tr>\n",
       "      <th>368</th>\n",
       "      <td>3075044</td>\n",
       "      <td>2017-08-19</td>\n",
       "      <td>t</td>\n",
       "      <td>$75.00</td>\n",
       "      <td>75.0</td>\n",
       "    </tr>\n",
       "    <tr>\n",
       "      <th>369</th>\n",
       "      <td>3075044</td>\n",
       "      <td>2017-08-18</td>\n",
       "      <td>t</td>\n",
       "      <td>$75.00</td>\n",
       "      <td>75.0</td>\n",
       "    </tr>\n",
       "    <tr>\n",
       "      <th>...</th>\n",
       "      <td>...</td>\n",
       "      <td>...</td>\n",
       "      <td>...</td>\n",
       "      <td>...</td>\n",
       "      <td>...</td>\n",
       "    </tr>\n",
       "    <tr>\n",
       "      <th>1308875</th>\n",
       "      <td>14504422</td>\n",
       "      <td>2016-09-20</td>\n",
       "      <td>t</td>\n",
       "      <td>$62.00</td>\n",
       "      <td>62.0</td>\n",
       "    </tr>\n",
       "    <tr>\n",
       "      <th>1308876</th>\n",
       "      <td>14504422</td>\n",
       "      <td>2016-09-19</td>\n",
       "      <td>t</td>\n",
       "      <td>$62.00</td>\n",
       "      <td>62.0</td>\n",
       "    </tr>\n",
       "    <tr>\n",
       "      <th>1308877</th>\n",
       "      <td>14504422</td>\n",
       "      <td>2016-09-18</td>\n",
       "      <td>t</td>\n",
       "      <td>$62.00</td>\n",
       "      <td>62.0</td>\n",
       "    </tr>\n",
       "    <tr>\n",
       "      <th>1308878</th>\n",
       "      <td>14504422</td>\n",
       "      <td>2016-09-17</td>\n",
       "      <td>t</td>\n",
       "      <td>$62.00</td>\n",
       "      <td>62.0</td>\n",
       "    </tr>\n",
       "    <tr>\n",
       "      <th>1308879</th>\n",
       "      <td>14504422</td>\n",
       "      <td>2016-09-16</td>\n",
       "      <td>t</td>\n",
       "      <td>$62.00</td>\n",
       "      <td>62.0</td>\n",
       "    </tr>\n",
       "  </tbody>\n",
       "</table>\n",
       "<p>643037 rows × 5 columns</p>\n",
       "</div>"
      ],
      "text/plain": [
       "         listing_id        date available   price  price_value\n",
       "365         3075044  2017-08-22         t  $65.00         65.0\n",
       "366         3075044  2017-08-21         t  $65.00         65.0\n",
       "367         3075044  2017-08-20         t  $65.00         65.0\n",
       "368         3075044  2017-08-19         t  $75.00         75.0\n",
       "369         3075044  2017-08-18         t  $75.00         75.0\n",
       "...             ...         ...       ...     ...          ...\n",
       "1308875    14504422  2016-09-20         t  $62.00         62.0\n",
       "1308876    14504422  2016-09-19         t  $62.00         62.0\n",
       "1308877    14504422  2016-09-18         t  $62.00         62.0\n",
       "1308878    14504422  2016-09-17         t  $62.00         62.0\n",
       "1308879    14504422  2016-09-16         t  $62.00         62.0\n",
       "\n",
       "[643037 rows x 5 columns]"
      ]
     },
     "execution_count": 8,
     "metadata": {},
     "output_type": "execute_result"
    }
   ],
   "source": [
    "#Check the newly generated dataframe\n",
    "cals_price_noNaN"
   ]
  },
  {
   "cell_type": "code",
   "execution_count": 9,
   "metadata": {},
   "outputs": [
    {
     "data": {
      "text/plain": [
       "count    643037.000000\n",
       "mean        198.438909\n",
       "std         180.142913\n",
       "min          11.000000\n",
       "25%          85.000000\n",
       "50%         150.000000\n",
       "75%         255.000000\n",
       "max        7163.000000\n",
       "Name: price_value, dtype: float64"
      ]
     },
     "execution_count": 9,
     "metadata": {},
     "output_type": "execute_result"
    }
   ],
   "source": [
    "#Check the general information of the newly generated form\n",
    "cals_price_noNaN['price_value'].describe()"
   ]
  },
  {
   "cell_type": "code",
   "execution_count": 10,
   "metadata": {},
   "outputs": [
    {
     "name": "stderr",
     "output_type": "stream",
     "text": [
      "<ipython-input-10-3f7db2f01dbc>:2: SettingWithCopyWarning: \n",
      "A value is trying to be set on a copy of a slice from a DataFrame.\n",
      "Try using .loc[row_indexer,col_indexer] = value instead\n",
      "\n",
      "See the caveats in the documentation: https://pandas.pydata.org/pandas-docs/stable/user_guide/indexing.html#returning-a-view-versus-a-copy\n",
      "  cals_price_noNaN['date'] = pd.to_datetime(cals_price_noNaN['date'])\n"
     ]
    }
   ],
   "source": [
    "# get the date information \n",
    "cals_price_noNaN['date'] = pd.to_datetime(cals_price_noNaN['date'])"
   ]
  },
  {
   "cell_type": "code",
   "execution_count": 11,
   "metadata": {},
   "outputs": [
    {
     "name": "stderr",
     "output_type": "stream",
     "text": [
      "<ipython-input-11-dd300e1e635b>:2: SettingWithCopyWarning: \n",
      "A value is trying to be set on a copy of a slice from a DataFrame.\n",
      "Try using .loc[row_indexer,col_indexer] = value instead\n",
      "\n",
      "See the caveats in the documentation: https://pandas.pydata.org/pandas-docs/stable/user_guide/indexing.html#returning-a-view-versus-a-copy\n",
      "  cals_price_noNaN['month'] =list(cals_price_noNaN['date'].dt.month)\n"
     ]
    }
   ],
   "source": [
    "# get the month information and append to the dataframe\n",
    "cals_price_noNaN['month'] =list(cals_price_noNaN['date'].dt.month)"
   ]
  },
  {
   "cell_type": "code",
   "execution_count": 16,
   "metadata": {},
   "outputs": [
    {
     "name": "stderr",
     "output_type": "stream",
     "text": [
      "<ipython-input-16-85d2ff285bbe>:2: SettingWithCopyWarning: \n",
      "A value is trying to be set on a copy of a slice from a DataFrame.\n",
      "Try using .loc[row_indexer,col_indexer] = value instead\n",
      "\n",
      "See the caveats in the documentation: https://pandas.pydata.org/pandas-docs/stable/user_guide/indexing.html#returning-a-view-versus-a-copy\n",
      "  cals_price_noNaN['day_of_week'] = list(cals_price_noNaN['date'].dt.day_name())\n"
     ]
    }
   ],
   "source": [
    "# get the weekday information and append to the dataframe\n",
    "cals_price_noNaN['day_of_week'] = list(cals_price_noNaN['date'].dt.day_name())"
   ]
  },
  {
   "cell_type": "code",
   "execution_count": 17,
   "metadata": {},
   "outputs": [
    {
     "data": {
      "text/html": [
       "<div>\n",
       "<style scoped>\n",
       "    .dataframe tbody tr th:only-of-type {\n",
       "        vertical-align: middle;\n",
       "    }\n",
       "\n",
       "    .dataframe tbody tr th {\n",
       "        vertical-align: top;\n",
       "    }\n",
       "\n",
       "    .dataframe thead th {\n",
       "        text-align: right;\n",
       "    }\n",
       "</style>\n",
       "<table border=\"1\" class=\"dataframe\">\n",
       "  <thead>\n",
       "    <tr style=\"text-align: right;\">\n",
       "      <th></th>\n",
       "      <th>listing_id</th>\n",
       "      <th>date</th>\n",
       "      <th>available</th>\n",
       "      <th>price</th>\n",
       "      <th>price_value</th>\n",
       "      <th>month</th>\n",
       "      <th>day_of_week</th>\n",
       "    </tr>\n",
       "  </thead>\n",
       "  <tbody>\n",
       "    <tr>\n",
       "      <th>365</th>\n",
       "      <td>3075044</td>\n",
       "      <td>2017-08-22</td>\n",
       "      <td>t</td>\n",
       "      <td>$65.00</td>\n",
       "      <td>65.0</td>\n",
       "      <td>8</td>\n",
       "      <td>Tuesday</td>\n",
       "    </tr>\n",
       "    <tr>\n",
       "      <th>366</th>\n",
       "      <td>3075044</td>\n",
       "      <td>2017-08-21</td>\n",
       "      <td>t</td>\n",
       "      <td>$65.00</td>\n",
       "      <td>65.0</td>\n",
       "      <td>8</td>\n",
       "      <td>Monday</td>\n",
       "    </tr>\n",
       "    <tr>\n",
       "      <th>367</th>\n",
       "      <td>3075044</td>\n",
       "      <td>2017-08-20</td>\n",
       "      <td>t</td>\n",
       "      <td>$65.00</td>\n",
       "      <td>65.0</td>\n",
       "      <td>8</td>\n",
       "      <td>Sunday</td>\n",
       "    </tr>\n",
       "    <tr>\n",
       "      <th>368</th>\n",
       "      <td>3075044</td>\n",
       "      <td>2017-08-19</td>\n",
       "      <td>t</td>\n",
       "      <td>$75.00</td>\n",
       "      <td>75.0</td>\n",
       "      <td>8</td>\n",
       "      <td>Saturday</td>\n",
       "    </tr>\n",
       "    <tr>\n",
       "      <th>369</th>\n",
       "      <td>3075044</td>\n",
       "      <td>2017-08-18</td>\n",
       "      <td>t</td>\n",
       "      <td>$75.00</td>\n",
       "      <td>75.0</td>\n",
       "      <td>8</td>\n",
       "      <td>Friday</td>\n",
       "    </tr>\n",
       "    <tr>\n",
       "      <th>...</th>\n",
       "      <td>...</td>\n",
       "      <td>...</td>\n",
       "      <td>...</td>\n",
       "      <td>...</td>\n",
       "      <td>...</td>\n",
       "      <td>...</td>\n",
       "      <td>...</td>\n",
       "    </tr>\n",
       "    <tr>\n",
       "      <th>1308875</th>\n",
       "      <td>14504422</td>\n",
       "      <td>2016-09-20</td>\n",
       "      <td>t</td>\n",
       "      <td>$62.00</td>\n",
       "      <td>62.0</td>\n",
       "      <td>9</td>\n",
       "      <td>Tuesday</td>\n",
       "    </tr>\n",
       "    <tr>\n",
       "      <th>1308876</th>\n",
       "      <td>14504422</td>\n",
       "      <td>2016-09-19</td>\n",
       "      <td>t</td>\n",
       "      <td>$62.00</td>\n",
       "      <td>62.0</td>\n",
       "      <td>9</td>\n",
       "      <td>Monday</td>\n",
       "    </tr>\n",
       "    <tr>\n",
       "      <th>1308877</th>\n",
       "      <td>14504422</td>\n",
       "      <td>2016-09-18</td>\n",
       "      <td>t</td>\n",
       "      <td>$62.00</td>\n",
       "      <td>62.0</td>\n",
       "      <td>9</td>\n",
       "      <td>Sunday</td>\n",
       "    </tr>\n",
       "    <tr>\n",
       "      <th>1308878</th>\n",
       "      <td>14504422</td>\n",
       "      <td>2016-09-17</td>\n",
       "      <td>t</td>\n",
       "      <td>$62.00</td>\n",
       "      <td>62.0</td>\n",
       "      <td>9</td>\n",
       "      <td>Saturday</td>\n",
       "    </tr>\n",
       "    <tr>\n",
       "      <th>1308879</th>\n",
       "      <td>14504422</td>\n",
       "      <td>2016-09-16</td>\n",
       "      <td>t</td>\n",
       "      <td>$62.00</td>\n",
       "      <td>62.0</td>\n",
       "      <td>9</td>\n",
       "      <td>Friday</td>\n",
       "    </tr>\n",
       "  </tbody>\n",
       "</table>\n",
       "<p>643037 rows × 7 columns</p>\n",
       "</div>"
      ],
      "text/plain": [
       "         listing_id       date available   price  price_value  month  \\\n",
       "365         3075044 2017-08-22         t  $65.00         65.0      8   \n",
       "366         3075044 2017-08-21         t  $65.00         65.0      8   \n",
       "367         3075044 2017-08-20         t  $65.00         65.0      8   \n",
       "368         3075044 2017-08-19         t  $75.00         75.0      8   \n",
       "369         3075044 2017-08-18         t  $75.00         75.0      8   \n",
       "...             ...        ...       ...     ...          ...    ...   \n",
       "1308875    14504422 2016-09-20         t  $62.00         62.0      9   \n",
       "1308876    14504422 2016-09-19         t  $62.00         62.0      9   \n",
       "1308877    14504422 2016-09-18         t  $62.00         62.0      9   \n",
       "1308878    14504422 2016-09-17         t  $62.00         62.0      9   \n",
       "1308879    14504422 2016-09-16         t  $62.00         62.0      9   \n",
       "\n",
       "        day_of_week  \n",
       "365         Tuesday  \n",
       "366          Monday  \n",
       "367          Sunday  \n",
       "368        Saturday  \n",
       "369          Friday  \n",
       "...             ...  \n",
       "1308875     Tuesday  \n",
       "1308876      Monday  \n",
       "1308877      Sunday  \n",
       "1308878    Saturday  \n",
       "1308879      Friday  \n",
       "\n",
       "[643037 rows x 7 columns]"
      ]
     },
     "execution_count": 17,
     "metadata": {},
     "output_type": "execute_result"
    }
   ],
   "source": [
    "# check the updated dataframe\n",
    "cals_price_noNaN"
   ]
  },
  {
   "cell_type": "code",
   "execution_count": 21,
   "metadata": {},
   "outputs": [],
   "source": [
    "\"\"\"\n",
    "For this step, we drop all the nan from \"listings.csv\" \n",
    "to generate a saperate dataframe, which will help us \n",
    "easily understand the price distribution, the original\n",
    "file won't be changed \n",
    "\n",
    "\"\"\"\n",
    "lists_pos = lists.dropna(subset =['latitude', 'longitude'], axis = 0)\n",
    "list_pos_noNaN = lists_pos.dropna(subset =['neighbourhood'], axis = 0)"
   ]
  },
  {
   "cell_type": "code",
   "execution_count": 22,
   "metadata": {},
   "outputs": [
    {
     "name": "stdout",
     "output_type": "stream",
     "text": [
      "<class 'pandas.core.frame.DataFrame'>\n",
      "RangeIndex: 3585 entries, 0 to 3584\n",
      "Data columns (total 62 columns):\n",
      " #   Column                            Non-Null Count  Dtype  \n",
      "---  ------                            --------------  -----  \n",
      " 0   id                                3585 non-null   int64  \n",
      " 1   name                              3585 non-null   object \n",
      " 2   host_id                           3585 non-null   int64  \n",
      " 3   host_name                         3585 non-null   object \n",
      " 4   host_since                        3585 non-null   object \n",
      " 5   host_location                     3574 non-null   object \n",
      " 6   host_response_time                3114 non-null   object \n",
      " 7   host_response_rate                3114 non-null   float64\n",
      " 8   host_acceptance_rate              3114 non-null   float64\n",
      " 9   host_is_superhost                 3585 non-null   object \n",
      " 10  host_listings_count               3585 non-null   int64  \n",
      " 11  host_total_listings_count         3585 non-null   int64  \n",
      " 12  host_verifications                3585 non-null   object \n",
      " 13  host_has_profile_pic              3585 non-null   object \n",
      " 14  host_identity_verified            3585 non-null   object \n",
      " 15  street                            3585 non-null   object \n",
      " 16  neighbourhood_cleansed            3585 non-null   object \n",
      " 17  city                              3583 non-null   object \n",
      " 18  state                             3585 non-null   object \n",
      " 19  zipcode                           3547 non-null   object \n",
      " 20  smart_location                    3585 non-null   object \n",
      " 21  country_code                      3585 non-null   object \n",
      " 22  country                           3585 non-null   object \n",
      " 23  latitude                          3585 non-null   float64\n",
      " 24  longitude                         3585 non-null   float64\n",
      " 25  is_location_exact                 3585 non-null   object \n",
      " 26  property_type                     3582 non-null   object \n",
      " 27  room_type                         3585 non-null   object \n",
      " 28  accommodates                      3585 non-null   int64  \n",
      " 29  bathrooms                         3571 non-null   float64\n",
      " 30  bedrooms                          3575 non-null   float64\n",
      " 31  beds                              3576 non-null   float64\n",
      " 32  bed_type                          3585 non-null   object \n",
      " 33  amenities                         3585 non-null   object \n",
      " 34  price                             3585 non-null   float64\n",
      " 35  security_deposit                  1342 non-null   float64\n",
      " 36  cleaning_fee                      2478 non-null   float64\n",
      " 37  guests_included                   3585 non-null   int64  \n",
      " 38  extra_people                      3585 non-null   float64\n",
      " 39  minimum_nights                    3585 non-null   int64  \n",
      " 40  maximum_nights                    3585 non-null   int64  \n",
      " 41  calendar_updated                  3585 non-null   object \n",
      " 42  availability_30                   3585 non-null   int64  \n",
      " 43  availability_60                   3585 non-null   int64  \n",
      " 44  availability_90                   3585 non-null   int64  \n",
      " 45  availability_365                  3585 non-null   int64  \n",
      " 46  calendar_last_scraped             3585 non-null   object \n",
      " 47  number_of_reviews                 3585 non-null   int64  \n",
      " 48  review_scores_rating              2772 non-null   float64\n",
      " 49  review_scores_accuracy            2762 non-null   float64\n",
      " 50  review_scores_cleanliness         2767 non-null   float64\n",
      " 51  review_scores_checkin             2765 non-null   float64\n",
      " 52  review_scores_communication       2767 non-null   float64\n",
      " 53  review_scores_location            2763 non-null   float64\n",
      " 54  review_scores_value               2764 non-null   float64\n",
      " 55  requires_license                  3585 non-null   object \n",
      " 56  instant_bookable                  3585 non-null   object \n",
      " 57  cancellation_policy               3585 non-null   object \n",
      " 58  require_guest_profile_picture     3585 non-null   object \n",
      " 59  require_guest_phone_verification  3585 non-null   object \n",
      " 60  calculated_host_listings_count    3585 non-null   int64  \n",
      " 61  reviews_per_month                 2829 non-null   float64\n",
      "dtypes: float64(19), int64(14), object(29)\n",
      "memory usage: 1.7+ MB\n"
     ]
    }
   ],
   "source": [
    "#data clearning for 'listing.csv'\n",
    "lists = pd.read_csv(\"listings.csv\")\n",
    "lists = lists.drop(['listing_url','scrape_id','last_scraped',\n",
    "                   'thumbnail_url','medium_url','picture_url',\n",
    "                   'xl_picture_url','host_url','host_thumbnail_url',\n",
    "                   'host_picture_url','weekly_price','monthly_price',\n",
    "                 'neighbourhood_group_cleansed','square_feet',\n",
    "                   'has_availability','license','jurisdiction_names',\n",
    "                   'first_review', 'last_review','market','neighbourhood', \n",
    "                   'host_neighbourhood', 'host_about', 'house_rules', \n",
    "                   'interaction','access','transit','notes', \n",
    "                   'neighborhood_overview', 'space', 'summary',\n",
    "                   'description','experiences_offered'], axis=1)\n",
    "\n",
    "# Transfer some of the onjects series to float\n",
    "lists['cleaning_fee'] = lists.cleaning_fee.str.replace('$','')\n",
    "lists['cleaning_fee'] = lists.cleaning_fee.str.replace(',','').astype(float)\n",
    "lists['security_deposit'] = lists.security_deposit.str.replace('$','')\n",
    "lists['security_deposit'] = lists.security_deposit.str.replace(',','').astype(float)\n",
    "lists['price'] = lists.price.str.replace('$','')\n",
    "lists['price'] = lists.price.str.replace(',','').astype(float)\n",
    "lists['extra_people'] = lists.extra_people.str.replace('$','')\n",
    "lists['extra_people'] = lists.extra_people.str.replace(',','').astype(float)\n",
    "lists.host_acceptance_rate = lists.host_acceptance_rate.str.replace('%','').astype(float)\n",
    "lists.host_response_rate = lists.host_response_rate.str.replace('%','').astype(float)\n",
    "\n",
    "lists.info()"
   ]
  },
  {
   "cell_type": "code",
   "execution_count": 23,
   "metadata": {},
   "outputs": [],
   "source": [
    "#select the categorical columns\n",
    "lists_cat = lists.select_dtypes(include = ['object'])\n",
    "\n",
    "#using mode to fill NaN for columns\n",
    "fill_mode = ['zipcode', 'city', 'host_response_time', \n",
    "             'host_location','property_type']\n",
    "for fm in fill_mode:\n",
    "    lists[fm].fillna(lists[fm].mode()[0], inplace = True)"
   ]
  },
  {
   "cell_type": "code",
   "execution_count": 24,
   "metadata": {},
   "outputs": [
    {
     "data": {
      "text/plain": [
       "id                                  False\n",
       "name                                False\n",
       "host_id                             False\n",
       "host_name                           False\n",
       "host_since                          False\n",
       "                                    ...  \n",
       "cancellation_policy                 False\n",
       "require_guest_profile_picture       False\n",
       "require_guest_phone_verification    False\n",
       "calculated_host_listings_count      False\n",
       "reviews_per_month                   False\n",
       "Length: 62, dtype: bool"
      ]
     },
     "execution_count": 24,
     "metadata": {},
     "output_type": "execute_result"
    }
   ],
   "source": [
    "#Check if the data preparation for listing.csv is ready ot not\n",
    "restnan = set(lists.columns[np.where(lists.isnull())[1]])\n",
    "for i in restnan:\n",
    "    lists[i].fillna(lists[i].mean(), inplace = True)\n",
    "lists.isnull().any()"
   ]
  },
  {
   "cell_type": "code",
   "execution_count": 38,
   "metadata": {},
   "outputs": [],
   "source": [
    "#Normalize the data\n",
    "numdata = lists.select_dtypes(['int64','float64'])\n",
    "y = (numdata['price'].values- numdata['price'].min())/\\\n",
    "(numdata['price'].max() - numdata['price'].min())\n",
    "numdata = numdata.drop('price', axis = 1)\n",
    "numdata_1 = preprocessing.StandardScaler().fit_transform(numdata)\n",
    "X = pd.DataFrame(numdata_1, columns = numdata.columns)"
   ]
  },
  {
   "cell_type": "code",
   "execution_count": 39,
   "metadata": {},
   "outputs": [],
   "source": [
    "#Combine the data\n",
    "cat = lists.select_dtypes(['object'])\n",
    "X = pd.concat([X,cat], axis=1)"
   ]
  },
  {
   "cell_type": "code",
   "execution_count": 40,
   "metadata": {},
   "outputs": [],
   "source": [
    "# Converting the object data type columns to category for use in Lightgbm\n",
    "for c in X.columns:\n",
    "    col_type = X[c].dtype\n",
    "    if col_type == 'object'or col_type.name == 'category':\n",
    "        X[c] = X[c].astype('category')"
   ]
  },
  {
   "cell_type": "code",
   "execution_count": 41,
   "metadata": {},
   "outputs": [
    {
     "name": "stdout",
     "output_type": "stream",
     "text": [
      "<class 'pandas.core.frame.DataFrame'>\n",
      "RangeIndex: 3585 entries, 0 to 3584\n",
      "Data columns (total 61 columns):\n",
      " #   Column                            Non-Null Count  Dtype   \n",
      "---  ------                            --------------  -----   \n",
      " 0   id                                3585 non-null   float64 \n",
      " 1   host_id                           3585 non-null   float64 \n",
      " 2   host_response_rate                3585 non-null   float64 \n",
      " 3   host_acceptance_rate              3585 non-null   float64 \n",
      " 4   host_listings_count               3585 non-null   float64 \n",
      " 5   host_total_listings_count         3585 non-null   float64 \n",
      " 6   latitude                          3585 non-null   float64 \n",
      " 7   longitude                         3585 non-null   float64 \n",
      " 8   accommodates                      3585 non-null   float64 \n",
      " 9   bathrooms                         3585 non-null   float64 \n",
      " 10  bedrooms                          3585 non-null   float64 \n",
      " 11  beds                              3585 non-null   float64 \n",
      " 12  security_deposit                  3585 non-null   float64 \n",
      " 13  cleaning_fee                      3585 non-null   float64 \n",
      " 14  guests_included                   3585 non-null   float64 \n",
      " 15  extra_people                      3585 non-null   float64 \n",
      " 16  minimum_nights                    3585 non-null   float64 \n",
      " 17  maximum_nights                    3585 non-null   float64 \n",
      " 18  availability_30                   3585 non-null   float64 \n",
      " 19  availability_60                   3585 non-null   float64 \n",
      " 20  availability_90                   3585 non-null   float64 \n",
      " 21  availability_365                  3585 non-null   float64 \n",
      " 22  number_of_reviews                 3585 non-null   float64 \n",
      " 23  review_scores_rating              3585 non-null   float64 \n",
      " 24  review_scores_accuracy            3585 non-null   float64 \n",
      " 25  review_scores_cleanliness         3585 non-null   float64 \n",
      " 26  review_scores_checkin             3585 non-null   float64 \n",
      " 27  review_scores_communication       3585 non-null   float64 \n",
      " 28  review_scores_location            3585 non-null   float64 \n",
      " 29  review_scores_value               3585 non-null   float64 \n",
      " 30  calculated_host_listings_count    3585 non-null   float64 \n",
      " 31  reviews_per_month                 3585 non-null   float64 \n",
      " 32  name                              3585 non-null   category\n",
      " 33  host_name                         3585 non-null   category\n",
      " 34  host_since                        3585 non-null   category\n",
      " 35  host_location                     3585 non-null   category\n",
      " 36  host_response_time                3585 non-null   category\n",
      " 37  host_is_superhost                 3585 non-null   category\n",
      " 38  host_verifications                3585 non-null   category\n",
      " 39  host_has_profile_pic              3585 non-null   category\n",
      " 40  host_identity_verified            3585 non-null   category\n",
      " 41  street                            3585 non-null   category\n",
      " 42  neighbourhood_cleansed            3585 non-null   category\n",
      " 43  city                              3585 non-null   category\n",
      " 44  state                             3585 non-null   category\n",
      " 45  zipcode                           3585 non-null   category\n",
      " 46  smart_location                    3585 non-null   category\n",
      " 47  country_code                      3585 non-null   category\n",
      " 48  country                           3585 non-null   category\n",
      " 49  is_location_exact                 3585 non-null   category\n",
      " 50  property_type                     3585 non-null   category\n",
      " 51  room_type                         3585 non-null   category\n",
      " 52  bed_type                          3585 non-null   category\n",
      " 53  amenities                         3585 non-null   category\n",
      " 54  calendar_updated                  3585 non-null   category\n",
      " 55  calendar_last_scraped             3585 non-null   category\n",
      " 56  requires_license                  3585 non-null   category\n",
      " 57  instant_bookable                  3585 non-null   category\n",
      " 58  cancellation_policy               3585 non-null   category\n",
      " 59  require_guest_profile_picture     3585 non-null   category\n",
      " 60  require_guest_phone_verification  3585 non-null   category\n",
      "dtypes: category(29), float64(32)\n",
      "memory usage: 1.4 MB\n"
     ]
    }
   ],
   "source": [
    "#Check the data\n",
    "X.info()"
   ]
  },
  {
   "cell_type": "markdown",
   "metadata": {},
   "source": [
    "## Section 4. Data Visualization "
   ]
  },
  {
   "cell_type": "markdown",
   "metadata": {},
   "source": [
    "### 4.1 How is the general price distribution of Airbnb in Boston?"
   ]
  },
  {
   "cell_type": "code",
   "execution_count": 26,
   "metadata": {},
   "outputs": [
    {
     "data": {
      "image/png": "[encoded data removed]",
      "text/plain": [
       "<Figure size 360x360 with 1 Axes>"
      ]
     },
     "metadata": {
      "needs_background": "light"
     },
     "output_type": "display_data"
    }
   ],
   "source": [
    "#Plot the price distribution of Airbnb in Boston\n",
    "np.random.seed(2020);\n",
    "sample = np.random.choice(cals_price_noNaN.shape[0], 1000, replace = False);\n",
    "cals_price_noNaN_sample = cals_price_noNaN.iloc[sample];\n",
    "\n",
    "bins = np.arange(0,1000,20)\n",
    "plt.figure(figsize = [5,5]);\n",
    "plt.hist(data = cals_price_noNaN_sample, x ='price_value',bins = bins);\n",
    "plt.title('The Price Distribution of Airbnb in Boston',fontsize = 15)\n",
    "plt.xlabel('The price (in US dollar)',fontsize = 15);\n",
    "plt.ylabel('The frequency (a.u.)',fontsize = 15);\n",
    "plt.xticks(fontsize=12);\n",
    "plt.yticks(fontsize=12);\n",
    "plt.grid(True, linestyle = \"-\", color = \"k\", linewidth = \"0.2\")\n",
    "plt.savefig('.\\images\\The_Price_Distribution_of_Airbnb_in_Boston.png',bbox_inches = 'tight')"
   ]
  },
  {
   "cell_type": "markdown",
   "metadata": {},
   "source": [
    "It can be observed that most of the Airbnb at Boston is no-higher than $200/night. It would be a piece of good news for those people who want to visit a big city like Boston but with a limited budget."
   ]
  },
  {
   "cell_type": "markdown",
   "metadata": {},
   "source": [
    "### 4.2 Whether there is a “hot-season” or “cold-season” for Airbnb in Boston?"
   ]
  },
  {
   "cell_type": "code",
   "execution_count": 27,
   "metadata": {},
   "outputs": [
    {
     "data": {
      "image/png": "[encoded data removed]",
      "text/plain": [
       "<Figure size 432x288 with 1 Axes>"
      ]
     },
     "metadata": {
      "needs_background": "light"
     },
     "output_type": "display_data"
    }
   ],
   "source": [
    "#plot the total rentals with the month\n",
    "sb.countplot(data = cals_price_noNaN, x = 'month')\n",
    "plt.title('Each month cases of Airbnb in Boston',fontsize = 15)\n",
    "plt.xlabel('The Month (in the year of 2017)',fontsize = 15);\n",
    "plt.ylabel('The number of cases',fontsize = 15);\n",
    "plt.xticks(fontsize=12);\n",
    "plt.yticks(fontsize=12);\n",
    "plt.savefig('.\\images\\Each_month_cases_of_Airbnb_in_Boston.png',bbox_inches = 'tight')"
   ]
  },
  {
   "cell_type": "markdown",
   "metadata": {},
   "source": [
    "It is noticed that the number of Airbnb cases in Sep, 2017 is much lower than the number of cases in other months of 2017, we would like to investigate what happend there. We want to firstly make sure if a lof of Sep, 2017 information was missing due to our operation of dropNaN."
   ]
  },
  {
   "cell_type": "code",
   "execution_count": 28,
   "metadata": {},
   "outputs": [
    {
     "data": {
      "image/png": "[encoded data removed]",
      "text/plain": [
       "<Figure size 432x288 with 1 Axes>"
      ]
     },
     "metadata": {
      "needs_background": "light"
     },
     "output_type": "display_data"
    }
   ],
   "source": [
    "cals['date'] = pd.to_datetime(cals['date'])\n",
    "cals['month'] = list(cals['date'].dt.month)\n",
    "sb.countplot(data = cals, x = 'month')\n",
    "plt.title('Each month cases of Airbnb in Boston_Real',fontsize = 15)\n",
    "plt.xlabel('The Month (in the year of 2017)',fontsize = 15);\n",
    "plt.ylabel('The number of cases',fontsize = 15);\n",
    "plt.xticks(fontsize=12);\n",
    "plt.yticks(fontsize=12);\n",
    "plt.savefig('.\\images\\Each_month_cases_of_Airbnb_in_Boston_Real.png',bbox_inches = 'tight')"
   ]
  },
  {
   "cell_type": "markdown",
   "metadata": {},
   "source": [
    "It can be concluded that a lot of information are lost for Sep.2017 and Oct,2017.  variation of total rentals each month is not actually very large. If we have to draw a conclusion from this figure, I would like to say that the rental in February is actually slightly less than in other months, I guess the reason is that Boston is super-cold at that time. And people may prefer visiting places like Florida."
   ]
  },
  {
   "cell_type": "markdown",
   "metadata": {},
   "source": [
    "### 4.3 How is the general price variations according to months and seasons"
   ]
  },
  {
   "cell_type": "code",
   "execution_count": 29,
   "metadata": {},
   "outputs": [
    {
     "data": {
      "image/png": "[encoded data removed]",
      "text/plain": [
       "<Figure size 576x576 with 1 Axes>"
      ]
     },
     "metadata": {
      "needs_background": "light"
     },
     "output_type": "display_data"
    }
   ],
   "source": [
    "#Plot the aveage price change versus the time \n",
    "plt.figure(figsize = [8,8]);\n",
    "sb.boxplot(data = cals_price_noNaN, x ='month', y = 'price_value')\n",
    "\n",
    "plt.ylim(0,700)\n",
    "plt.title('Price variation of Airbnb in Boston',fontsize = 15)\n",
    "plt.xlabel('The Month (in the year of 2017)',fontsize = 15);\n",
    "plt.ylabel('Price value (in US dollar)',fontsize = 15);\n",
    "plt.xticks(fontsize=12);\n",
    "plt.yticks(fontsize=12);\n",
    "plt.savefig('.\\images\\Price_variation_of_Airbnb_in_Boston.png',bbox_inches ='tight')"
   ]
  },
  {
   "cell_type": "markdown",
   "metadata": {},
   "source": [
    "looks like the price of Airbnb in September is higher than the other months, to be more clear, we can also check the average price change in terms of 'day'"
   ]
  },
  {
   "cell_type": "code",
   "execution_count": 30,
   "metadata": {},
   "outputs": [
    {
     "data": {
      "image/png": "[encoded data removed]",
      "text/plain": [
       "<Figure size 576x432 with 1 Axes>"
      ]
     },
     "metadata": {
      "needs_background": "light"
     },
     "output_type": "display_data"
    }
   ],
   "source": [
    "#Plot the average price change versus the 'day'\n",
    "plt.figure(figsize = [8,6]);\n",
    "cals_price_noNaN['price_value'] \\\n",
    ".groupby(cals_price_noNaN['date']).mean().plot(color = 'red')\n",
    "plt.title('Average price variation of Airbnb in Boston',fontsize = 15)\n",
    "plt.xlabel('Date',fontsize = 15);\n",
    "plt.ylabel('Average price (in US dollar)',fontsize = 15);\n",
    "plt.xticks(fontsize=12);\n",
    "plt.yticks(fontsize=12);\n",
    "plt.savefig('.\\images\\Average_price_variation_of_Airbnb_in_Boston.png', bbox_inches = 'tight')"
   ]
  },
  {
   "cell_type": "markdown",
   "metadata": {},
   "source": [
    "The hot season must be September to October. The average price is much higher in these two months. Next, we will check if the price change with the weekdays"
   ]
  },
  {
   "cell_type": "code",
   "execution_count": 31,
   "metadata": {},
   "outputs": [
    {
     "data": {
      "image/png": "[encoded data removed]",
      "text/plain": [
       "<Figure size 576x432 with 1 Axes>"
      ]
     },
     "metadata": {
      "needs_background": "light"
     },
     "output_type": "display_data"
    }
   ],
   "source": [
    "#plot the Average price variation from Monday to Sunday\n",
    "a = cals_price_noNaN['price_value'].groupby(cals_price_noNaN['day_of_week']\\\n",
    "                                       ).mean().index\n",
    "plt.figure(figsize = [8,6]);\n",
    "sb.boxplot(data = cals_price_noNaN, x = 'day_of_week', y = 'price_value', order = a)\n",
    "plt.ylim(0,400)\n",
    "plt.xticks(rotation = 15)\n",
    "plt.title('Average price variation from Monday to Sunday',fontsize = 15)\n",
    "plt.xlabel('Day of week',fontsize = 15);\n",
    "plt.ylabel('Price (in US dollar)',fontsize = 15);\n",
    "plt.xticks(fontsize=12);\n",
    "plt.yticks(fontsize=12);\n",
    "plt.savefig('.\\images\\Average_price_variation_from_Monday_to_Sunday.png', bbox_inches = 'tight')"
   ]
  },
  {
   "cell_type": "markdown",
   "metadata": {},
   "source": [
    "Look like the price change over weekdays is not very large"
   ]
  },
  {
   "cell_type": "markdown",
   "metadata": {},
   "source": [
    "### 4.4  Which area is \"hottest\" for Boston Airbnb and which region is the most expensive?"
   ]
  },
  {
   "cell_type": "code",
   "execution_count": 32,
   "metadata": {},
   "outputs": [
    {
     "data": {
      "image/png": "[encoded data removed]",
      "text/plain": [
       "<Figure size 576x432 with 2 Axes>"
      ]
     },
     "metadata": {
      "needs_background": "light"
     },
     "output_type": "display_data"
    }
   ],
   "source": [
    "# plot the Heatmap of Airbnb in Boston\n",
    "plt.figure(figsize = [8,6])\n",
    "bin_y = np.arange(42.2,42.4,0.004)\n",
    "bin_x = np.arange(-71.18,-71.00,0.004)\n",
    "plt.hist2d(data = lists_pos, x = 'longitude', y = 'latitude',\n",
    "           bins = [bin_x, bin_y],cmin = 1);\n",
    "plt.colorbar()\n",
    "plt.title('Heatmap of Airbnb in Boston',fontsize = 15)\n",
    "plt.xlabel('longitude',fontsize = 15);\n",
    "plt.ylabel('latitude',fontsize = 15);\n",
    "plt.xticks(fontsize=12);\n",
    "plt.yticks(fontsize=12);\n",
    "plt.savefig('.\\images\\Heatmap_of_Airbnb_in_Boston.png', bbox_inches ='tight')"
   ]
  },
  {
   "cell_type": "code",
   "execution_count": 33,
   "metadata": {},
   "outputs": [
    {
     "data": {
      "image/png": "[encoded data removed]",
      "text/plain": [
       "<Figure size 432x432 with 1 Axes>"
      ]
     },
     "metadata": {
      "needs_background": "light"
     },
     "output_type": "display_data"
    }
   ],
   "source": [
    "# plot the price distribution scatter image of Airbnb in Boston\n",
    "lists_pos['price_value'] = lists_pos.price.str.replace(',','')\n",
    "lists_pos['price_value'] = lists_pos.price_value.str.replace('$','').astype(float)\n",
    "plt.figure(figsize = [6,6])\n",
    "np.random.seed(210)\n",
    "#sample = np.random.choice(lists_pos['price_value'], 3000, replace = False)\n",
    "#lists_pos_random = lists_pos.loc[sample]\n",
    "sb.regplot(data = lists_pos, x = 'longitude', y = 'latitude',\n",
    "          fit_reg = False, \n",
    "        scatter_kws = {'s':lists_pos['price_value'],'alpha':1/100})\n",
    "prices = [50,150,250]\n",
    "legend_obj = []\n",
    "base_color = sb.color_palette()[0]\n",
    "for p in prices:\n",
    "    legend_obj.append(plt.scatter([],[],s=p, color = base_color))\n",
    "plt.legend(legend_obj, prices)\n",
    "plt.xlim([-71.18,-71.00])\n",
    "plt.ylim([42.2,42.4])\n",
    "plt.title('Heatmap of Airbnb price in Boston',fontsize = 15)\n",
    "plt.xlabel('longitude',fontsize = 15);\n",
    "plt.ylabel('latitude',fontsize = 15);\n",
    "plt.xticks(fontsize=12);\n",
    "plt.yticks(fontsize=12);\n",
    "plt.savefig('.\\images\\Heatmap_of_Airbnb_price_in_Boston.png',bbox_inches ='tight')"
   ]
  },
  {
   "cell_type": "markdown",
   "metadata": {},
   "source": [
    "It is very obvious that the price of Airbnb in Boston is related to the location, so let us have a look on which community has the highst prices"
   ]
  },
  {
   "cell_type": "code",
   "execution_count": 34,
   "metadata": {},
   "outputs": [
    {
     "data": {
      "text/plain": [
       "neighbourhood\n",
       "Allston-Brighton      114.162088\n",
       "Back Bay              245.457045\n",
       "Beacon Hill           212.080460\n",
       "Brookline             130.375000\n",
       "Cambridge             203.000000\n",
       "Charlestown           210.050633\n",
       "Chestnut Hill          70.750000\n",
       "Chinatown             235.410256\n",
       "Dorchester             97.451282\n",
       "Downtown              196.500000\n",
       "Downtown Crossing     273.500000\n",
       "East Boston           124.059829\n",
       "Fenway/Kenmore        230.104418\n",
       "Financial District    283.692308\n",
       "Government Center     205.333333\n",
       "Harvard Square        359.000000\n",
       "Hyde Park              93.680000\n",
       "Jamaica Plain         140.687898\n",
       "Leather District      245.875000\n",
       "Mattapan               72.000000\n",
       "Mission Hill          127.805825\n",
       "North End             195.512000\n",
       "Roslindale             99.160000\n",
       "Roxbury               147.637931\n",
       "Somerville             93.076923\n",
       "South Boston          232.120370\n",
       "South End             206.721477\n",
       "Theater District      234.151515\n",
       "West End              221.602941\n",
       "West Roxbury          111.342857\n",
       "Name: price_value, dtype: float64"
      ]
     },
     "execution_count": 34,
     "metadata": {},
     "output_type": "execute_result"
    }
   ],
   "source": [
    "# Check the average price for each community\n",
    "list_pos_noNaN = lists_pos.dropna(subset =['neighbourhood'], axis = 0)\n",
    "location_rank = list_pos_noNaN['price_value'].groupby(list_pos_noNaN['neighbourhood']).mean()\n",
    "location_rank"
   ]
  },
  {
   "cell_type": "code",
   "execution_count": 35,
   "metadata": {},
   "outputs": [
    {
     "data": {
      "text/plain": [
       "neighbourhood\n",
       "Harvard Square        359.000000\n",
       "Financial District    283.692308\n",
       "Downtown Crossing     273.500000\n",
       "Leather District      245.875000\n",
       "Back Bay              245.457045\n",
       "Chinatown             235.410256\n",
       "Theater District      234.151515\n",
       "South Boston          232.120370\n",
       "Fenway/Kenmore        230.104418\n",
       "West End              221.602941\n",
       "Beacon Hill           212.080460\n",
       "Charlestown           210.050633\n",
       "South End             206.721477\n",
       "Government Center     205.333333\n",
       "Cambridge             203.000000\n",
       "Downtown              196.500000\n",
       "North End             195.512000\n",
       "Roxbury               147.637931\n",
       "Jamaica Plain         140.687898\n",
       "Brookline             130.375000\n",
       "Mission Hill          127.805825\n",
       "East Boston           124.059829\n",
       "Allston-Brighton      114.162088\n",
       "West Roxbury          111.342857\n",
       "Roslindale             99.160000\n",
       "Dorchester             97.451282\n",
       "Hyde Park              93.680000\n",
       "Somerville             93.076923\n",
       "Mattapan               72.000000\n",
       "Chestnut Hill          70.750000\n",
       "Name: price_value, dtype: float64"
      ]
     },
     "execution_count": 35,
     "metadata": {},
     "output_type": "execute_result"
    }
   ],
   "source": [
    "#have a ranking on the average price\n",
    "location_rank = location_rank.sort_values(ascending = False)\n",
    "location_rank"
   ]
  },
  {
   "cell_type": "code",
   "execution_count": 36,
   "metadata": {},
   "outputs": [
    {
     "data": {
      "text/plain": [
       "Index(['Harvard Square', 'Financial District', 'Downtown Crossing',\n",
       "       'Leather District', 'Back Bay', 'Chinatown', 'Theater District',\n",
       "       'South Boston', 'Fenway/Kenmore', 'West End'],\n",
       "      dtype='object', name='neighbourhood')"
      ]
     },
     "execution_count": 36,
     "metadata": {},
     "output_type": "execute_result"
    }
   ],
   "source": [
    "#find the top tem expensive regions\n",
    "myorder= location_rank.index[:10]\n",
    "myorder"
   ]
  },
  {
   "cell_type": "code",
   "execution_count": 37,
   "metadata": {},
   "outputs": [
    {
     "data": {
      "image/png": "[encoded data removed]",
      "text/plain": [
       "<Figure size 432x288 with 1 Axes>"
      ]
     },
     "metadata": {
      "needs_background": "light"
     },
     "output_type": "display_data"
    }
   ],
   "source": [
    "#plot the Airbnb price in different locations of Boston\n",
    "mylist = list_pos_noNaN.loc[list_pos_noNaN['neighbourhood'].isin(list(myorder))]\n",
    "#sb.barplot(myorder, location_rank[:10])\n",
    "sb.barplot(data = mylist , x ='neighbourhood', y = 'price_value', order = myorder)\n",
    "plt.xticks(rotation = 90)\n",
    "plt.title('Airbnb price in different locations of Boston',fontsize = 15)\n",
    "plt.xlabel('Neighbourhood',fontsize = 15);\n",
    "plt.ylabel('Price_value',fontsize = 15);\n",
    "plt.xticks(fontsize=12);\n",
    "plt.yticks(fontsize=12);\n",
    "plt.savefig('.\\images\\Airbnb_price_in_different_locations_of_Boston.png', bbox_inches ='tight')"
   ]
  },
  {
   "cell_type": "markdown",
   "metadata": {},
   "source": [
    "## Section 5. Data Modeling"
   ]
  },
  {
   "cell_type": "code",
   "execution_count": 42,
   "metadata": {},
   "outputs": [
    {
     "data": {
      "text/html": [
       "<div>\n",
       "<style scoped>\n",
       "    .dataframe tbody tr th:only-of-type {\n",
       "        vertical-align: middle;\n",
       "    }\n",
       "\n",
       "    .dataframe tbody tr th {\n",
       "        vertical-align: top;\n",
       "    }\n",
       "\n",
       "    .dataframe thead th {\n",
       "        text-align: right;\n",
       "    }\n",
       "</style>\n",
       "<table border=\"1\" class=\"dataframe\">\n",
       "  <thead>\n",
       "    <tr style=\"text-align: right;\">\n",
       "      <th></th>\n",
       "      <th>id</th>\n",
       "      <th>host_id</th>\n",
       "      <th>host_response_rate</th>\n",
       "      <th>host_acceptance_rate</th>\n",
       "      <th>host_listings_count</th>\n",
       "      <th>host_total_listings_count</th>\n",
       "      <th>latitude</th>\n",
       "      <th>longitude</th>\n",
       "      <th>accommodates</th>\n",
       "      <th>bathrooms</th>\n",
       "      <th>...</th>\n",
       "      <th>room_type</th>\n",
       "      <th>bed_type</th>\n",
       "      <th>amenities</th>\n",
       "      <th>calendar_updated</th>\n",
       "      <th>calendar_last_scraped</th>\n",
       "      <th>requires_license</th>\n",
       "      <th>instant_bookable</th>\n",
       "      <th>cancellation_policy</th>\n",
       "      <th>require_guest_profile_picture</th>\n",
       "      <th>require_guest_phone_verification</th>\n",
       "    </tr>\n",
       "  </thead>\n",
       "  <tbody>\n",
       "    <tr>\n",
       "      <th>0</th>\n",
       "      <td>0.823771</td>\n",
       "      <td>0.278340</td>\n",
       "      <td>0.000000</td>\n",
       "      <td>0.000000</td>\n",
       "      <td>-0.338421</td>\n",
       "      <td>-0.338421</td>\n",
       "      <td>-2.353071</td>\n",
       "      <td>-1.528834</td>\n",
       "      <td>0.539004</td>\n",
       "      <td>0.556221</td>\n",
       "      <td>...</td>\n",
       "      <td>Entire home/apt</td>\n",
       "      <td>Real Bed</td>\n",
       "      <td>{TV,\"Wireless Internet\",Kitchen,\"Free Parking ...</td>\n",
       "      <td>2 weeks ago</td>\n",
       "      <td>2016-09-06</td>\n",
       "      <td>f</td>\n",
       "      <td>f</td>\n",
       "      <td>moderate</td>\n",
       "      <td>f</td>\n",
       "      <td>f</td>\n",
       "    </tr>\n",
       "    <tr>\n",
       "      <th>1</th>\n",
       "      <td>-1.192365</td>\n",
       "      <td>-0.974972</td>\n",
       "      <td>0.429584</td>\n",
       "      <td>0.779845</td>\n",
       "      <td>-0.338421</td>\n",
       "      <td>-0.338421</td>\n",
       "      <td>-2.204622</td>\n",
       "      <td>-1.570216</td>\n",
       "      <td>-0.585424</td>\n",
       "      <td>-0.442906</td>\n",
       "      <td>...</td>\n",
       "      <td>Private room</td>\n",
       "      <td>Real Bed</td>\n",
       "      <td>{TV,Internet,\"Wireless Internet\",\"Air Conditio...</td>\n",
       "      <td>a week ago</td>\n",
       "      <td>2016-09-06</td>\n",
       "      <td>f</td>\n",
       "      <td>t</td>\n",
       "      <td>moderate</td>\n",
       "      <td>f</td>\n",
       "      <td>f</td>\n",
       "    </tr>\n",
       "    <tr>\n",
       "      <th>2</th>\n",
       "      <td>-1.874133</td>\n",
       "      <td>-1.086448</td>\n",
       "      <td>0.429584</td>\n",
       "      <td>0.188565</td>\n",
       "      <td>-0.338421</td>\n",
       "      <td>-0.338421</td>\n",
       "      <td>-1.950635</td>\n",
       "      <td>-1.614300</td>\n",
       "      <td>-0.585424</td>\n",
       "      <td>-0.442906</td>\n",
       "      <td>...</td>\n",
       "      <td>Private room</td>\n",
       "      <td>Real Bed</td>\n",
       "      <td>{TV,\"Cable TV\",\"Wireless Internet\",\"Air Condit...</td>\n",
       "      <td>5 days ago</td>\n",
       "      <td>2016-09-06</td>\n",
       "      <td>f</td>\n",
       "      <td>f</td>\n",
       "      <td>moderate</td>\n",
       "      <td>t</td>\n",
       "      <td>f</td>\n",
       "    </tr>\n",
       "    <tr>\n",
       "      <th>3</th>\n",
       "      <td>-1.556470</td>\n",
       "      <td>-0.824078</td>\n",
       "      <td>0.429584</td>\n",
       "      <td>-1.683822</td>\n",
       "      <td>-0.338421</td>\n",
       "      <td>-0.338421</td>\n",
       "      <td>-2.415065</td>\n",
       "      <td>-1.147128</td>\n",
       "      <td>0.539004</td>\n",
       "      <td>-0.442906</td>\n",
       "      <td>...</td>\n",
       "      <td>Private room</td>\n",
       "      <td>Real Bed</td>\n",
       "      <td>{TV,Internet,\"Wireless Internet\",\"Air Conditio...</td>\n",
       "      <td>a week ago</td>\n",
       "      <td>2016-09-06</td>\n",
       "      <td>f</td>\n",
       "      <td>f</td>\n",
       "      <td>moderate</td>\n",
       "      <td>f</td>\n",
       "      <td>f</td>\n",
       "    </tr>\n",
       "    <tr>\n",
       "      <th>4</th>\n",
       "      <td>-0.175507</td>\n",
       "      <td>-0.415542</td>\n",
       "      <td>0.429584</td>\n",
       "      <td>0.779845</td>\n",
       "      <td>-0.338421</td>\n",
       "      <td>-0.338421</td>\n",
       "      <td>-2.275469</td>\n",
       "      <td>-1.629914</td>\n",
       "      <td>-0.585424</td>\n",
       "      <td>0.556221</td>\n",
       "      <td>...</td>\n",
       "      <td>Private room</td>\n",
       "      <td>Real Bed</td>\n",
       "      <td>{Internet,\"Wireless Internet\",\"Air Conditionin...</td>\n",
       "      <td>2 weeks ago</td>\n",
       "      <td>2016-09-06</td>\n",
       "      <td>f</td>\n",
       "      <td>f</td>\n",
       "      <td>flexible</td>\n",
       "      <td>f</td>\n",
       "      <td>f</td>\n",
       "    </tr>\n",
       "    <tr>\n",
       "      <th>...</th>\n",
       "      <td>...</td>\n",
       "      <td>...</td>\n",
       "      <td>...</td>\n",
       "      <td>...</td>\n",
       "      <td>...</td>\n",
       "      <td>...</td>\n",
       "      <td>...</td>\n",
       "      <td>...</td>\n",
       "      <td>...</td>\n",
       "      <td>...</td>\n",
       "      <td>...</td>\n",
       "      <td>...</td>\n",
       "      <td>...</td>\n",
       "      <td>...</td>\n",
       "      <td>...</td>\n",
       "      <td>...</td>\n",
       "      <td>...</td>\n",
       "      <td>...</td>\n",
       "      <td>...</td>\n",
       "      <td>...</td>\n",
       "      <td>...</td>\n",
       "    </tr>\n",
       "    <tr>\n",
       "      <th>3580</th>\n",
       "      <td>-0.014921</td>\n",
       "      <td>-0.247626</td>\n",
       "      <td>0.086666</td>\n",
       "      <td>0.779845</td>\n",
       "      <td>-0.180614</td>\n",
       "      <td>-0.180614</td>\n",
       "      <td>1.677762</td>\n",
       "      <td>0.032403</td>\n",
       "      <td>-0.023210</td>\n",
       "      <td>-0.442906</td>\n",
       "      <td>...</td>\n",
       "      <td>Private room</td>\n",
       "      <td>Real Bed</td>\n",
       "      <td>{Internet,\"Wireless Internet\",\"Air Conditionin...</td>\n",
       "      <td>5 days ago</td>\n",
       "      <td>2016-09-06</td>\n",
       "      <td>f</td>\n",
       "      <td>t</td>\n",
       "      <td>strict</td>\n",
       "      <td>f</td>\n",
       "      <td>f</td>\n",
       "    </tr>\n",
       "    <tr>\n",
       "      <th>3581</th>\n",
       "      <td>1.422927</td>\n",
       "      <td>0.542794</td>\n",
       "      <td>-7.286083</td>\n",
       "      <td>-0.057802</td>\n",
       "      <td>-0.332576</td>\n",
       "      <td>-0.332576</td>\n",
       "      <td>0.306227</td>\n",
       "      <td>-1.062032</td>\n",
       "      <td>-0.585424</td>\n",
       "      <td>-0.442906</td>\n",
       "      <td>...</td>\n",
       "      <td>Private room</td>\n",
       "      <td>Real Bed</td>\n",
       "      <td>{TV,Internet,\"Wireless Internet\",\"Air Conditio...</td>\n",
       "      <td>never</td>\n",
       "      <td>2016-09-06</td>\n",
       "      <td>f</td>\n",
       "      <td>f</td>\n",
       "      <td>strict</td>\n",
       "      <td>f</td>\n",
       "      <td>f</td>\n",
       "    </tr>\n",
       "    <tr>\n",
       "      <th>3582</th>\n",
       "      <td>1.365421</td>\n",
       "      <td>-0.593737</td>\n",
       "      <td>-1.456468</td>\n",
       "      <td>-1.683822</td>\n",
       "      <td>-0.338421</td>\n",
       "      <td>-0.338421</td>\n",
       "      <td>1.300849</td>\n",
       "      <td>0.428316</td>\n",
       "      <td>0.539004</td>\n",
       "      <td>-0.442906</td>\n",
       "      <td>...</td>\n",
       "      <td>Entire home/apt</td>\n",
       "      <td>Real Bed</td>\n",
       "      <td>{\"translation missing: en.hosting_amenity_49\",...</td>\n",
       "      <td>3 weeks ago</td>\n",
       "      <td>2016-09-06</td>\n",
       "      <td>f</td>\n",
       "      <td>f</td>\n",
       "      <td>flexible</td>\n",
       "      <td>f</td>\n",
       "      <td>f</td>\n",
       "    </tr>\n",
       "    <tr>\n",
       "      <th>3583</th>\n",
       "      <td>1.369508</td>\n",
       "      <td>2.154669</td>\n",
       "      <td>0.429584</td>\n",
       "      <td>0.582751</td>\n",
       "      <td>-0.320887</td>\n",
       "      <td>-0.320887</td>\n",
       "      <td>1.852303</td>\n",
       "      <td>0.123412</td>\n",
       "      <td>-0.585424</td>\n",
       "      <td>-0.442906</td>\n",
       "      <td>...</td>\n",
       "      <td>Private room</td>\n",
       "      <td>Real Bed</td>\n",
       "      <td>{Kitchen,Gym,\"Family/Kid Friendly\",Washer,Drye...</td>\n",
       "      <td>today</td>\n",
       "      <td>2016-09-06</td>\n",
       "      <td>f</td>\n",
       "      <td>f</td>\n",
       "      <td>strict</td>\n",
       "      <td>f</td>\n",
       "      <td>f</td>\n",
       "    </tr>\n",
       "    <tr>\n",
       "      <th>3584</th>\n",
       "      <td>1.347407</td>\n",
       "      <td>0.748005</td>\n",
       "      <td>0.429584</td>\n",
       "      <td>0.533478</td>\n",
       "      <td>-0.262440</td>\n",
       "      <td>-0.262440</td>\n",
       "      <td>1.961383</td>\n",
       "      <td>0.131933</td>\n",
       "      <td>-0.585424</td>\n",
       "      <td>-0.442906</td>\n",
       "      <td>...</td>\n",
       "      <td>Private room</td>\n",
       "      <td>Real Bed</td>\n",
       "      <td>{\"Wireless Internet\",Kitchen,Essentials,\"trans...</td>\n",
       "      <td>today</td>\n",
       "      <td>2016-09-06</td>\n",
       "      <td>f</td>\n",
       "      <td>t</td>\n",
       "      <td>flexible</td>\n",
       "      <td>f</td>\n",
       "      <td>f</td>\n",
       "    </tr>\n",
       "  </tbody>\n",
       "</table>\n",
       "<p>3585 rows × 61 columns</p>\n",
       "</div>"
      ],
      "text/plain": [
       "            id   host_id  host_response_rate  host_acceptance_rate  \\\n",
       "0     0.823771  0.278340            0.000000              0.000000   \n",
       "1    -1.192365 -0.974972            0.429584              0.779845   \n",
       "2    -1.874133 -1.086448            0.429584              0.188565   \n",
       "3    -1.556470 -0.824078            0.429584             -1.683822   \n",
       "4    -0.175507 -0.415542            0.429584              0.779845   \n",
       "...        ...       ...                 ...                   ...   \n",
       "3580 -0.014921 -0.247626            0.086666              0.779845   \n",
       "3581  1.422927  0.542794           -7.286083             -0.057802   \n",
       "3582  1.365421 -0.593737           -1.456468             -1.683822   \n",
       "3583  1.369508  2.154669            0.429584              0.582751   \n",
       "3584  1.347407  0.748005            0.429584              0.533478   \n",
       "\n",
       "      host_listings_count  host_total_listings_count  latitude  longitude  \\\n",
       "0               -0.338421                  -0.338421 -2.353071  -1.528834   \n",
       "1               -0.338421                  -0.338421 -2.204622  -1.570216   \n",
       "2               -0.338421                  -0.338421 -1.950635  -1.614300   \n",
       "3               -0.338421                  -0.338421 -2.415065  -1.147128   \n",
       "4               -0.338421                  -0.338421 -2.275469  -1.629914   \n",
       "...                   ...                        ...       ...        ...   \n",
       "3580            -0.180614                  -0.180614  1.677762   0.032403   \n",
       "3581            -0.332576                  -0.332576  0.306227  -1.062032   \n",
       "3582            -0.338421                  -0.338421  1.300849   0.428316   \n",
       "3583            -0.320887                  -0.320887  1.852303   0.123412   \n",
       "3584            -0.262440                  -0.262440  1.961383   0.131933   \n",
       "\n",
       "      accommodates  bathrooms  ...        room_type  bed_type  \\\n",
       "0         0.539004   0.556221  ...  Entire home/apt  Real Bed   \n",
       "1        -0.585424  -0.442906  ...     Private room  Real Bed   \n",
       "2        -0.585424  -0.442906  ...     Private room  Real Bed   \n",
       "3         0.539004  -0.442906  ...     Private room  Real Bed   \n",
       "4        -0.585424   0.556221  ...     Private room  Real Bed   \n",
       "...            ...        ...  ...              ...       ...   \n",
       "3580     -0.023210  -0.442906  ...     Private room  Real Bed   \n",
       "3581     -0.585424  -0.442906  ...     Private room  Real Bed   \n",
       "3582      0.539004  -0.442906  ...  Entire home/apt  Real Bed   \n",
       "3583     -0.585424  -0.442906  ...     Private room  Real Bed   \n",
       "3584     -0.585424  -0.442906  ...     Private room  Real Bed   \n",
       "\n",
       "                                              amenities  calendar_updated  \\\n",
       "0     {TV,\"Wireless Internet\",Kitchen,\"Free Parking ...       2 weeks ago   \n",
       "1     {TV,Internet,\"Wireless Internet\",\"Air Conditio...        a week ago   \n",
       "2     {TV,\"Cable TV\",\"Wireless Internet\",\"Air Condit...        5 days ago   \n",
       "3     {TV,Internet,\"Wireless Internet\",\"Air Conditio...        a week ago   \n",
       "4     {Internet,\"Wireless Internet\",\"Air Conditionin...       2 weeks ago   \n",
       "...                                                 ...               ...   \n",
       "3580  {Internet,\"Wireless Internet\",\"Air Conditionin...        5 days ago   \n",
       "3581  {TV,Internet,\"Wireless Internet\",\"Air Conditio...             never   \n",
       "3582  {\"translation missing: en.hosting_amenity_49\",...       3 weeks ago   \n",
       "3583  {Kitchen,Gym,\"Family/Kid Friendly\",Washer,Drye...             today   \n",
       "3584  {\"Wireless Internet\",Kitchen,Essentials,\"trans...             today   \n",
       "\n",
       "      calendar_last_scraped  requires_license  instant_bookable  \\\n",
       "0                2016-09-06                 f                 f   \n",
       "1                2016-09-06                 f                 t   \n",
       "2                2016-09-06                 f                 f   \n",
       "3                2016-09-06                 f                 f   \n",
       "4                2016-09-06                 f                 f   \n",
       "...                     ...               ...               ...   \n",
       "3580             2016-09-06                 f                 t   \n",
       "3581             2016-09-06                 f                 f   \n",
       "3582             2016-09-06                 f                 f   \n",
       "3583             2016-09-06                 f                 f   \n",
       "3584             2016-09-06                 f                 t   \n",
       "\n",
       "      cancellation_policy  require_guest_profile_picture  \\\n",
       "0                moderate                              f   \n",
       "1                moderate                              f   \n",
       "2                moderate                              t   \n",
       "3                moderate                              f   \n",
       "4                flexible                              f   \n",
       "...                   ...                            ...   \n",
       "3580               strict                              f   \n",
       "3581               strict                              f   \n",
       "3582             flexible                              f   \n",
       "3583               strict                              f   \n",
       "3584             flexible                              f   \n",
       "\n",
       "      require_guest_phone_verification  \n",
       "0                                    f  \n",
       "1                                    f  \n",
       "2                                    f  \n",
       "3                                    f  \n",
       "4                                    f  \n",
       "...                                ...  \n",
       "3580                                 f  \n",
       "3581                                 f  \n",
       "3582                                 f  \n",
       "3583                                 f  \n",
       "3584                                 f  \n",
       "\n",
       "[3585 rows x 61 columns]"
      ]
     },
     "execution_count": 42,
     "metadata": {},
     "output_type": "execute_result"
    }
   ],
   "source": [
    "#check the data\n",
    "X"
   ]
  },
  {
   "cell_type": "code",
   "execution_count": 43,
   "metadata": {},
   "outputs": [],
   "source": [
    "#spliting the data \n",
    "X_train, X_test, y_train, y_test = \\\n",
    "    train_test_split(X, y, test_size=0.20, random_state=420)"
   ]
  },
  {
   "cell_type": "code",
   "execution_count": 44,
   "metadata": {},
   "outputs": [],
   "source": [
    "fit_params={\n",
    "    \"early_stopping_rounds\":10, \n",
    "            \"eval_metric\" : 'mae', \n",
    "            \"eval_set\" : [(X_test,y_test)],\n",
    "            'eval_names': ['valid'],\n",
    "            'verbose': 100,\n",
    "            'feature_name': 'auto', # that's actually the default\n",
    "            'categorical_feature': 'auto' # that's actually the default\n",
    "           }"
   ]
  },
  {
   "cell_type": "code",
   "execution_count": 45,
   "metadata": {},
   "outputs": [
    {
     "name": "stdout",
     "output_type": "stream",
     "text": [
      "Training until validation scores don't improve for 10 rounds\n",
      "[100]\tvalid's l1: 0.0167464\n",
      "[200]\tvalid's l1: 0.0146189\n",
      "[300]\tvalid's l1: 0.0140293\n",
      "[400]\tvalid's l1: 0.0136641\n",
      "[500]\tvalid's l1: 0.0134412\n",
      "[600]\tvalid's l1: 0.0132521\n",
      "[700]\tvalid's l1: 0.0131398\n",
      "Early stopping, best iteration is:\n",
      "[718]\tvalid's l1: 0.013121\n"
     ]
    },
    {
     "data": {
      "text/plain": [
       "LGBMRegressor(colsample_bytree=0.9, learning_rate=0.01, max_depth=5,\n",
       "              metric='None', n_estimators=1000, n_jobs=4, num_leaves=10,\n",
       "              random_state=314, subsample=0.9)"
      ]
     },
     "execution_count": 45,
     "metadata": {},
     "output_type": "execute_result"
    }
   ],
   "source": [
    "# instantiate model\n",
    "clf = lgb.LGBMRegressor(num_leaves= 10, max_depth=5, \n",
    "                         random_state=314,\n",
    "                         colsample_bytree=0.9,\n",
    "                         subsample=0.9,\n",
    "                         silent=True, \n",
    "                         metric='None', \n",
    "                         n_jobs=4, \n",
    "                         n_estimators=1000,\n",
    "                         \n",
    "                         learning_rate=0.01)\n",
    "\n",
    "# Traning the model\n",
    "clf.fit(X_train, y_train, **fit_params)"
   ]
  },
  {
   "cell_type": "code",
   "execution_count": 46,
   "metadata": {},
   "outputs": [],
   "source": [
    "# predicting X_test\n",
    "y_pred = clf.predict(X_test)"
   ]
  },
  {
   "cell_type": "code",
   "execution_count": 47,
   "metadata": {},
   "outputs": [],
   "source": [
    "#Accuracy\n",
    "mean_absolute_error =mean_absolute_error(y_pred,y_test)"
   ]
  },
  {
   "cell_type": "code",
   "execution_count": 48,
   "metadata": {},
   "outputs": [
    {
     "data": {
      "text/plain": [
       "0.013120965951709798"
      ]
     },
     "execution_count": 48,
     "metadata": {},
     "output_type": "execute_result"
    }
   ],
   "source": [
    "# overall mean_absolute_error \n",
    "mean_absolute_error"
   ]
  },
  {
   "cell_type": "code",
   "execution_count": 49,
   "metadata": {},
   "outputs": [
    {
     "data": {
      "text/plain": [
       "<AxesSubplot:>"
      ]
     },
     "execution_count": 49,
     "metadata": {},
     "output_type": "execute_result"
    },
    {
     "data": {
      "image/png": "[encoded data removed]",
      "text/plain": [
       "<Figure size 576x720 with 1 Axes>"
      ]
     },
     "metadata": {
      "needs_background": "light"
     },
     "output_type": "display_data"
    }
   ],
   "source": [
    "# Plotting features by importance\n",
    "feat_imp = pd.Series(clf.feature_importances_, index=X.columns)\n",
    "feat_imp.nlargest(30).plot(kind='barh', figsize=(8,10))"
   ]
  },
  {
   "cell_type": "markdown",
   "metadata": {},
   "source": [
    "This plot shows that the neighbourhood_cleansed and region might be the most imporctant factor affect the price of the Airbnb in Boston"
   ]
  },
  {
   "cell_type": "code",
   "execution_count": null,
   "metadata": {},
   "outputs": [],
   "source": []
  }
 ],
 "metadata": {
  "kernelspec": {
   "display_name": "base",
   "language": "python",
   "name": "base"
  },
  "language_info": {
   "codemirror_mode": {
    "name": "ipython",
    "version": 3
   },
   "file_extension": ".py",
   "mimetype": "text/x-python",
   "name": "python",
   "nbconvert_exporter": "python",
   "pygments_lexer": "ipython3",
   "version": "3.8.3"
  }
 },
 "nbformat": 4,
 "nbformat_minor": 4
}
